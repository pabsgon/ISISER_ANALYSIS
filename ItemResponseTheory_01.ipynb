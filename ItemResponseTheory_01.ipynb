{
 "cells": [
  {
   "cell_type": "code",
   "execution_count": 1,
   "id": "55b1f507",
   "metadata": {},
   "outputs": [
    {
     "name": "stdout",
     "output_type": "stream",
     "text": [
      "Requirement already satisfied: pandas in c:\\users\\pablo\\anaconda3\\lib\\site-packages (1.5.3)\n",
      "Requirement already satisfied: numpy in c:\\users\\pablo\\anaconda3\\lib\\site-packages (1.24.3)\n",
      "Requirement already satisfied: scipy in c:\\users\\pablo\\anaconda3\\lib\\site-packages (1.10.1)\n",
      "Requirement already satisfied: statsmodels in c:\\users\\pablo\\anaconda3\\lib\\site-packages (0.14.0)\n",
      "Requirement already satisfied: pyirt in c:\\users\\pablo\\anaconda3\\lib\\site-packages (0.3.4)\n",
      "Requirement already satisfied: matplotlib in c:\\users\\pablo\\anaconda3\\lib\\site-packages (3.7.1)\n",
      "Requirement already satisfied: python-dateutil>=2.8.1 in c:\\users\\pablo\\anaconda3\\lib\\site-packages (from pandas) (2.8.2)\n",
      "Requirement already satisfied: pytz>=2020.1 in c:\\users\\pablo\\anaconda3\\lib\\site-packages (from pandas) (2022.7)\n",
      "Requirement already satisfied: patsy>=0.5.2 in c:\\users\\pablo\\anaconda3\\lib\\site-packages (from statsmodels) (0.5.3)\n",
      "Requirement already satisfied: packaging>=21.3 in c:\\users\\pablo\\anaconda3\\lib\\site-packages (from statsmodels) (23.0)\n",
      "Requirement already satisfied: cython in c:\\users\\pablo\\anaconda3\\lib\\site-packages (from pyirt) (3.0.11)\n",
      "Requirement already satisfied: pymongo in c:\\users\\pablo\\anaconda3\\lib\\site-packages (from pyirt) (4.8.0)\n",
      "Requirement already satisfied: tqdm in c:\\users\\pablo\\anaconda3\\lib\\site-packages (from pyirt) (4.65.0)\n",
      "Requirement already satisfied: python-decouple in c:\\users\\pablo\\anaconda3\\lib\\site-packages (from pyirt) (3.8)\n",
      "Requirement already satisfied: contourpy>=1.0.1 in c:\\users\\pablo\\anaconda3\\lib\\site-packages (from matplotlib) (1.0.5)\n",
      "Requirement already satisfied: cycler>=0.10 in c:\\users\\pablo\\anaconda3\\lib\\site-packages (from matplotlib) (0.11.0)\n",
      "Requirement already satisfied: fonttools>=4.22.0 in c:\\users\\pablo\\anaconda3\\lib\\site-packages (from matplotlib) (4.25.0)\n",
      "Requirement already satisfied: kiwisolver>=1.0.1 in c:\\users\\pablo\\anaconda3\\lib\\site-packages (from matplotlib) (1.4.4)\n",
      "Requirement already satisfied: pillow>=6.2.0 in c:\\users\\pablo\\anaconda3\\lib\\site-packages (from matplotlib) (9.4.0)\n",
      "Requirement already satisfied: pyparsing>=2.3.1 in c:\\users\\pablo\\anaconda3\\lib\\site-packages (from matplotlib) (3.0.9)\n",
      "Requirement already satisfied: six in c:\\users\\pablo\\anaconda3\\lib\\site-packages (from patsy>=0.5.2->statsmodels) (1.16.0)\n",
      "Requirement already satisfied: dnspython<3.0.0,>=1.16.0 in c:\\users\\pablo\\anaconda3\\lib\\site-packages (from pymongo->pyirt) (2.6.1)\n",
      "Requirement already satisfied: colorama in c:\\users\\pablo\\anaconda3\\lib\\site-packages (from tqdm->pyirt) (0.4.6)\n",
      "Note: you may need to restart the kernel to use updated packages.\n"
     ]
    }
   ],
   "source": [
    "pip install pandas numpy scipy statsmodels pyirt matplotlib"
   ]
  },
  {
   "cell_type": "code",
   "execution_count": 2,
   "id": "90a4f5fc",
   "metadata": {
    "scrolled": true
   },
   "outputs": [
    {
     "name": "stdout",
     "output_type": "stream",
     "text": [
      "Requirement already satisfied: blosc2 in c:\\users\\pablo\\anaconda3\\lib\\site-packages (2.7.1)\n",
      "Requirement already satisfied: numpy>=1.21 in c:\\users\\pablo\\anaconda3\\lib\\site-packages (from blosc2) (1.24.3)\n",
      "Requirement already satisfied: ndindex>=1.4 in c:\\users\\pablo\\anaconda3\\lib\\site-packages (from blosc2) (1.8)\n",
      "Requirement already satisfied: msgpack in c:\\users\\pablo\\anaconda3\\lib\\site-packages (from blosc2) (1.0.3)\n",
      "Requirement already satisfied: numexpr in c:\\users\\pablo\\anaconda3\\lib\\site-packages (from blosc2) (2.8.4)\n",
      "Requirement already satisfied: py-cpuinfo in c:\\users\\pablo\\anaconda3\\lib\\site-packages (from blosc2) (8.0.0)\n",
      "Note: you may need to restart the kernel to use updated packages.\n"
     ]
    }
   ],
   "source": [
    "pip install blosc2b"
   ]
  },
  {
   "cell_type": "code",
   "execution_count": 1,
   "id": "f9b14845",
   "metadata": {},
   "outputs": [
    {
     "name": "stdout",
     "output_type": "stream",
     "text": [
      "Requirement already satisfied: numpy==1.24.3 in c:\\users\\pablo\\anaconda3\\lib\\site-packages (1.24.3)\n",
      "Note: you may need to restart the kernel to use updated packages.\n"
     ]
    }
   ],
   "source": [
    "pip install numpy==1.24.3"
   ]
  },
  {
   "cell_type": "code",
   "execution_count": 1,
   "id": "40c00a3b",
   "metadata": {
    "scrolled": true
   },
   "outputs": [
    {
     "name": "stdout",
     "output_type": "stream",
     "text": [
      "Requirement already satisfied: FuzzyTM in c:\\users\\pablo\\anaconda3\\lib\\site-packages (2.0.9)\n",
      "Requirement already satisfied: sentencepiece in c:\\users\\pablo\\anaconda3\\lib\\site-packages (0.2.0)\n",
      "Requirement already satisfied: blosc2 in c:\\users\\pablo\\anaconda3\\lib\\site-packages (2.7.1)\n",
      "Requirement already satisfied: numpy in c:\\users\\pablo\\anaconda3\\lib\\site-packages (from FuzzyTM) (1.24.4)\n",
      "Requirement already satisfied: pandas in c:\\users\\pablo\\anaconda3\\lib\\site-packages (from FuzzyTM) (1.5.3)\n",
      "Requirement already satisfied: scipy in c:\\users\\pablo\\anaconda3\\lib\\site-packages (from FuzzyTM) (1.10.1)\n",
      "Requirement already satisfied: pyfume in c:\\users\\pablo\\anaconda3\\lib\\site-packages (from FuzzyTM) (0.3.4)\n",
      "Requirement already satisfied: ndindex>=1.4 in c:\\users\\pablo\\anaconda3\\lib\\site-packages (from blosc2) (1.8)\n",
      "Requirement already satisfied: msgpack in c:\\users\\pablo\\anaconda3\\lib\\site-packages (from blosc2) (1.0.3)\n",
      "Requirement already satisfied: numexpr in c:\\users\\pablo\\anaconda3\\lib\\site-packages (from blosc2) (2.8.4)\n",
      "Requirement already satisfied: py-cpuinfo in c:\\users\\pablo\\anaconda3\\lib\\site-packages (from blosc2) (8.0.0)\n",
      "Requirement already satisfied: python-dateutil>=2.8.1 in c:\\users\\pablo\\anaconda3\\lib\\site-packages (from pandas->FuzzyTM) (2.8.2)\n",
      "Requirement already satisfied: pytz>=2020.1 in c:\\users\\pablo\\anaconda3\\lib\\site-packages (from pandas->FuzzyTM) (2022.7)\n",
      "Requirement already satisfied: simpful==2.12.0 in c:\\users\\pablo\\anaconda3\\lib\\site-packages (from pyfume->FuzzyTM) (2.12.0)\n",
      "Requirement already satisfied: fst-pso==1.8.1 in c:\\users\\pablo\\anaconda3\\lib\\site-packages (from pyfume->FuzzyTM) (1.8.1)\n",
      "Requirement already satisfied: miniful in c:\\users\\pablo\\anaconda3\\lib\\site-packages (from fst-pso==1.8.1->pyfume->FuzzyTM) (0.0.6)\n",
      "Requirement already satisfied: six>=1.5 in c:\\users\\pablo\\anaconda3\\lib\\site-packages (from python-dateutil>=2.8.1->pandas->FuzzyTM) (1.16.0)\n",
      "Note: you may need to restart the kernel to use updated packages.\n"
     ]
    }
   ],
   "source": [
    "pip install FuzzyTM sentencepiece blosc2"
   ]
  },
  {
   "cell_type": "code",
   "execution_count": 2,
   "id": "004c4c65",
   "metadata": {},
   "outputs": [
    {
     "name": "stdout",
     "output_type": "stream",
     "text": [
      "^C\n",
      "Note: you may need to restart the kernel to use updated packages.\n"
     ]
    }
   ],
   "source": [
    "pip uninstall pyfume"
   ]
  },
  {
   "cell_type": "code",
   "execution_count": 1,
   "id": "a41be751",
   "metadata": {},
   "outputs": [
    {
     "name": "stdout",
     "output_type": "stream",
     "text": [
      "Collecting py-irtNote: you may need to restart the kernel to use updated packages.\n",
      "\n",
      "  Downloading py_irt-0.6.4-py3-none-any.whl.metadata (6.0 kB)\n",
      "Collecting numpy>=1.24.4 (from py-irt)\n",
      "  Downloading numpy-2.1.0-cp311-cp311-win_amd64.whl.metadata (59 kB)\n",
      "Collecting ordered-set<5.0.0,>=4.1.0 (from py-irt)\n",
      "  Downloading ordered_set-4.1.0-py3-none-any.whl.metadata (5.3 kB)\n",
      "Collecting pandas<3.0.0,>=2.0.3 (from py-irt)\n",
      "  Downloading pandas-2.2.2-cp311-cp311-win_amd64.whl.metadata (19 kB)\n",
      "Collecting pydantic<3.0.0,>=2.5.3 (from py-irt)\n",
      "  Downloading pydantic-2.8.2-py3-none-any.whl.metadata (125 kB)\n",
      "Collecting pyro-ppl<2.0.0,>=1.8.6 (from py-irt)\n",
      "  Downloading pyro_ppl-1.9.1-py3-none-any.whl.metadata (7.8 kB)\n",
      "Collecting rich<14.0.0,>=13.7.0 (from py-irt)\n",
      "  Downloading rich-13.7.1-py3-none-any.whl.metadata (18 kB)\n",
      "Collecting scikit-learn<2.0.0,>=1.3.2 (from py-irt)\n",
      "  Downloading scikit_learn-1.5.1-cp311-cp311-win_amd64.whl.metadata (12 kB)\n",
      "Collecting scipy<2.0.0,>=1.6.3 (from py-irt)\n",
      "  Downloading scipy-1.14.1-cp311-cp311-win_amd64.whl.metadata (60 kB)\n",
      "Collecting toml<0.11.0,>=0.10.2 (from py-irt)\n",
      "  Downloading toml-0.10.2-py2.py3-none-any.whl.metadata (7.1 kB)\n",
      "Collecting torch<3.0.0,>=2.2.0 (from py-irt)\n",
      "  Downloading torch-2.4.0-cp311-cp311-win_amd64.whl.metadata (27 kB)\n",
      "Collecting typer<0.10.0,>=0.9.0 (from py-irt)\n",
      "  Downloading typer-0.9.4-py3-none-any.whl.metadata (14 kB)\n",
      "Requirement already satisfied: python-dateutil>=2.8.2 in c:\\users\\pablo\\anaconda3\\envs\\itemresponsetheory\\lib\\site-packages (from pandas<3.0.0,>=2.0.3->py-irt) (2.9.0.post0)\n",
      "Requirement already satisfied: pytz>=2020.1 in c:\\users\\pablo\\anaconda3\\envs\\itemresponsetheory\\lib\\site-packages (from pandas<3.0.0,>=2.0.3->py-irt) (2024.1)\n",
      "Collecting tzdata>=2022.7 (from pandas<3.0.0,>=2.0.3->py-irt)\n",
      "  Downloading tzdata-2024.1-py2.py3-none-any.whl.metadata (1.4 kB)\n",
      "Collecting annotated-types>=0.4.0 (from pydantic<3.0.0,>=2.5.3->py-irt)\n",
      "  Downloading annotated_types-0.7.0-py3-none-any.whl.metadata (15 kB)\n",
      "Collecting pydantic-core==2.20.1 (from pydantic<3.0.0,>=2.5.3->py-irt)\n",
      "  Downloading pydantic_core-2.20.1-cp311-none-win_amd64.whl.metadata (6.7 kB)\n",
      "Requirement already satisfied: typing-extensions>=4.6.1 in c:\\users\\pablo\\anaconda3\\envs\\itemresponsetheory\\lib\\site-packages (from pydantic<3.0.0,>=2.5.3->py-irt) (4.11.0)\n",
      "Collecting opt-einsum>=2.3.2 (from pyro-ppl<2.0.0,>=1.8.6->py-irt)\n",
      "  Downloading opt_einsum-3.3.0-py3-none-any.whl.metadata (6.5 kB)\n",
      "Collecting pyro-api>=0.1.1 (from pyro-ppl<2.0.0,>=1.8.6->py-irt)\n",
      "  Downloading pyro_api-0.1.2-py3-none-any.whl.metadata (2.5 kB)\n",
      "Collecting tqdm>=4.36 (from pyro-ppl<2.0.0,>=1.8.6->py-irt)\n",
      "  Downloading tqdm-4.66.5-py3-none-any.whl.metadata (57 kB)\n",
      "Collecting markdown-it-py>=2.2.0 (from rich<14.0.0,>=13.7.0->py-irt)\n",
      "  Downloading markdown_it_py-3.0.0-py3-none-any.whl.metadata (6.9 kB)\n",
      "Requirement already satisfied: pygments<3.0.0,>=2.13.0 in c:\\users\\pablo\\anaconda3\\envs\\itemresponsetheory\\lib\\site-packages (from rich<14.0.0,>=13.7.0->py-irt) (2.15.1)\n",
      "Collecting joblib>=1.2.0 (from scikit-learn<2.0.0,>=1.3.2->py-irt)\n",
      "  Downloading joblib-1.4.2-py3-none-any.whl.metadata (5.4 kB)\n",
      "Collecting threadpoolctl>=3.1.0 (from scikit-learn<2.0.0,>=1.3.2->py-irt)\n",
      "  Downloading threadpoolctl-3.5.0-py3-none-any.whl.metadata (13 kB)\n",
      "Collecting filelock (from torch<3.0.0,>=2.2.0->py-irt)\n",
      "  Downloading filelock-3.15.4-py3-none-any.whl.metadata (2.9 kB)\n",
      "Collecting sympy (from torch<3.0.0,>=2.2.0->py-irt)\n",
      "  Downloading sympy-1.13.2-py3-none-any.whl.metadata (12 kB)\n",
      "Collecting networkx (from torch<3.0.0,>=2.2.0->py-irt)\n",
      "  Downloading networkx-3.3-py3-none-any.whl.metadata (5.1 kB)\n",
      "Requirement already satisfied: jinja2 in c:\\users\\pablo\\anaconda3\\envs\\itemresponsetheory\\lib\\site-packages (from torch<3.0.0,>=2.2.0->py-irt) (3.1.4)\n",
      "Collecting fsspec (from torch<3.0.0,>=2.2.0->py-irt)\n",
      "  Downloading fsspec-2024.6.1-py3-none-any.whl.metadata (11 kB)\n",
      "Collecting click<9.0.0,>=7.1.1 (from typer<0.10.0,>=0.9.0->py-irt)\n",
      "  Downloading click-8.1.7-py3-none-any.whl.metadata (3.0 kB)\n",
      "Requirement already satisfied: colorama in c:\\users\\pablo\\anaconda3\\envs\\itemresponsetheory\\lib\\site-packages (from click<9.0.0,>=7.1.1->typer<0.10.0,>=0.9.0->py-irt) (0.4.6)\n",
      "Collecting mdurl~=0.1 (from markdown-it-py>=2.2.0->rich<14.0.0,>=13.7.0->py-irt)\n",
      "  Downloading mdurl-0.1.2-py3-none-any.whl.metadata (1.6 kB)\n",
      "Requirement already satisfied: six>=1.5 in c:\\users\\pablo\\anaconda3\\envs\\itemresponsetheory\\lib\\site-packages (from python-dateutil>=2.8.2->pandas<3.0.0,>=2.0.3->py-irt) (1.16.0)\n",
      "Requirement already satisfied: MarkupSafe>=2.0 in c:\\users\\pablo\\anaconda3\\envs\\itemresponsetheory\\lib\\site-packages (from jinja2->torch<3.0.0,>=2.2.0->py-irt) (2.1.3)\n",
      "Collecting mpmath<1.4,>=1.1.0 (from sympy->torch<3.0.0,>=2.2.0->py-irt)\n",
      "  Downloading mpmath-1.3.0-py3-none-any.whl.metadata (8.6 kB)\n",
      "Downloading py_irt-0.6.4-py3-none-any.whl (41 kB)\n",
      "Downloading numpy-2.1.0-cp311-cp311-win_amd64.whl (12.9 MB)\n",
      "   ---------------------------------------- 0.0/12.9 MB ? eta -:--:--\n",
      "   --------- ------------------------------ 3.1/12.9 MB 15.3 MB/s eta 0:00:01\n",
      "   ------------------- -------------------- 6.3/12.9 MB 14.9 MB/s eta 0:00:01\n",
      "   ------------------------------ --------- 9.7/12.9 MB 15.1 MB/s eta 0:00:01\n",
      "   ---------------------------------------- 12.9/12.9 MB 14.9 MB/s eta 0:00:00\n",
      "Downloading ordered_set-4.1.0-py3-none-any.whl (7.6 kB)\n",
      "Downloading pandas-2.2.2-cp311-cp311-win_amd64.whl (11.6 MB)\n",
      "   ---------------------------------------- 0.0/11.6 MB ? eta -:--:--\n",
      "   ----------- ---------------------------- 3.4/11.6 MB 16.7 MB/s eta 0:00:01\n",
      "   ------------------------ --------------- 7.1/11.6 MB 16.8 MB/s eta 0:00:01\n",
      "   ------------------------------------ --- 10.7/11.6 MB 16.8 MB/s eta 0:00:01\n",
      "   ---------------------------------------- 11.6/11.6 MB 16.2 MB/s eta 0:00:00\n",
      "Downloading pydantic-2.8.2-py3-none-any.whl (423 kB)\n",
      "Downloading pydantic_core-2.20.1-cp311-none-win_amd64.whl (1.9 MB)\n",
      "   ---------------------------------------- 0.0/1.9 MB ? eta -:--:--\n",
      "   ---------------------------------------- 1.9/1.9 MB 17.6 MB/s eta 0:00:00\n",
      "Downloading pyro_ppl-1.9.1-py3-none-any.whl (755 kB)\n",
      "   ---------------------------------------- 0.0/756.0 kB ? eta -:--:--\n",
      "   --------------------------------------- 756.0/756.0 kB 15.9 MB/s eta 0:00:00\n",
      "Downloading rich-13.7.1-py3-none-any.whl (240 kB)\n",
      "Downloading scikit_learn-1.5.1-cp311-cp311-win_amd64.whl (11.0 MB)\n",
      "   ---------------------------------------- 0.0/11.0 MB ? eta -:--:--\n",
      "   ----------- ---------------------------- 3.1/11.0 MB 16.8 MB/s eta 0:00:01\n",
      "   ----------------------- ---------------- 6.6/11.0 MB 16.8 MB/s eta 0:00:01\n",
      "   ----------------------------------- ---- 9.7/11.0 MB 15.1 MB/s eta 0:00:01\n",
      "   ---------------------------------------- 11.0/11.0 MB 14.9 MB/s eta 0:00:00\n",
      "Downloading scipy-1.14.1-cp311-cp311-win_amd64.whl (44.8 MB)\n",
      "   ---------------------------------------- 0.0/44.8 MB ? eta -:--:--\n",
      "   --- ------------------------------------ 3.4/44.8 MB 16.7 MB/s eta 0:00:03\n",
      "   ------ --------------------------------- 7.3/44.8 MB 18.1 MB/s eta 0:00:03\n",
      "   ---------- ----------------------------- 11.3/44.8 MB 18.0 MB/s eta 0:00:02\n",
      "   ------------- -------------------------- 14.9/44.8 MB 17.7 MB/s eta 0:00:02\n",
      "   ---------------- ----------------------- 18.9/44.8 MB 17.8 MB/s eta 0:00:02\n",
      "   -------------------- ------------------- 22.5/44.8 MB 17.8 MB/s eta 0:00:02\n",
      "   ----------------------- ---------------- 26.5/44.8 MB 17.8 MB/s eta 0:00:02\n",
      "   -------------------------- ------------- 30.1/44.8 MB 17.9 MB/s eta 0:00:01\n",
      "   ------------------------------ --------- 33.8/44.8 MB 17.9 MB/s eta 0:00:01\n",
      "   --------------------------------- ------ 37.7/44.8 MB 17.9 MB/s eta 0:00:01\n",
      "   ------------------------------------- -- 41.7/44.8 MB 17.9 MB/s eta 0:00:01\n",
      "   ---------------------------------------  44.6/44.8 MB 17.8 MB/s eta 0:00:01\n",
      "   ---------------------------------------- 44.8/44.8 MB 17.2 MB/s eta 0:00:00\n",
      "Downloading toml-0.10.2-py2.py3-none-any.whl (16 kB)\n",
      "Downloading torch-2.4.0-cp311-cp311-win_amd64.whl (197.9 MB)\n",
      "   ---------------------------------------- 0.0/197.9 MB ? eta -:--:--\n",
      "    --------------------------------------- 3.7/197.9 MB 18.1 MB/s eta 0:00:11\n",
      "   - -------------------------------------- 7.3/197.9 MB 18.1 MB/s eta 0:00:11\n",
      "   -- ------------------------------------- 11.3/197.9 MB 18.0 MB/s eta 0:00:11\n",
      "   --- ------------------------------------ 15.2/197.9 MB 18.0 MB/s eta 0:00:11\n",
      "   --- ------------------------------------ 18.9/197.9 MB 18.1 MB/s eta 0:00:10\n",
      "   ---- ----------------------------------- 22.8/197.9 MB 18.0 MB/s eta 0:00:10\n",
      "   ----- ---------------------------------- 26.5/197.9 MB 18.0 MB/s eta 0:00:10\n",
      "   ------ --------------------------------- 30.4/197.9 MB 18.0 MB/s eta 0:00:10\n",
      "   ------ --------------------------------- 34.3/197.9 MB 18.0 MB/s eta 0:00:10\n",
      "   ------- -------------------------------- 38.0/197.9 MB 18.0 MB/s eta 0:00:09\n",
      "   -------- ------------------------------- 41.9/197.9 MB 18.0 MB/s eta 0:00:09\n",
      "   --------- ------------------------------ 45.6/197.9 MB 18.0 MB/s eta 0:00:09\n",
      "   ---------- ----------------------------- 49.5/197.9 MB 18.0 MB/s eta 0:00:09\n",
      "   ---------- ----------------------------- 53.5/197.9 MB 18.0 MB/s eta 0:00:09\n",
      "   ----------- ---------------------------- 57.1/197.9 MB 18.0 MB/s eta 0:00:08\n",
      "   ------------ --------------------------- 61.1/197.9 MB 18.0 MB/s eta 0:00:08\n",
      "   ------------- -------------------------- 65.0/197.9 MB 18.0 MB/s eta 0:00:08\n",
      "   ------------- -------------------------- 68.7/197.9 MB 18.0 MB/s eta 0:00:08\n",
      "   -------------- ------------------------- 72.4/197.9 MB 18.0 MB/s eta 0:00:07\n",
      "   --------------- ------------------------ 76.3/197.9 MB 18.0 MB/s eta 0:00:07\n",
      "   ---------------- ----------------------- 80.2/197.9 MB 18.0 MB/s eta 0:00:07\n",
      "   ----------------- ---------------------- 84.1/197.9 MB 18.0 MB/s eta 0:00:07\n",
      "   ----------------- ---------------------- 87.8/197.9 MB 18.0 MB/s eta 0:00:07\n",
      "   ------------------ --------------------- 91.8/197.9 MB 18.0 MB/s eta 0:00:06\n",
      "   ------------------- -------------------- 95.7/197.9 MB 18.0 MB/s eta 0:00:06\n",
      "   -------------------- ------------------- 99.4/197.9 MB 18.0 MB/s eta 0:00:06\n",
      "   -------------------- ------------------ 103.3/197.9 MB 18.0 MB/s eta 0:00:06\n",
      "   --------------------- ----------------- 107.2/197.9 MB 18.0 MB/s eta 0:00:06\n",
      "   --------------------- ----------------- 110.9/197.9 MB 18.0 MB/s eta 0:00:05\n",
      "   ---------------------- ---------------- 114.6/197.9 MB 18.0 MB/s eta 0:00:05\n",
      "   ----------------------- --------------- 117.4/197.9 MB 17.8 MB/s eta 0:00:05\n",
      "   ----------------------- --------------- 121.1/197.9 MB 17.8 MB/s eta 0:00:05\n",
      "   ------------------------ -------------- 125.0/197.9 MB 17.8 MB/s eta 0:00:05\n",
      "   ------------------------- ------------- 129.0/197.9 MB 17.8 MB/s eta 0:00:04\n",
      "   -------------------------- ------------ 132.6/197.9 MB 17.8 MB/s eta 0:00:04\n",
      "   -------------------------- ------------ 136.6/197.9 MB 17.8 MB/s eta 0:00:04\n",
      "   --------------------------- ----------- 140.2/197.9 MB 17.8 MB/s eta 0:00:04\n",
      "   ---------------------------- ---------- 143.9/197.9 MB 17.9 MB/s eta 0:00:04\n",
      "   ----------------------------- --------- 147.8/197.9 MB 17.9 MB/s eta 0:00:03\n",
      "   ----------------------------- --------- 151.5/197.9 MB 17.9 MB/s eta 0:00:03\n",
      "   ------------------------------ -------- 155.5/197.9 MB 17.9 MB/s eta 0:00:03\n",
      "   ------------------------------- ------- 159.4/197.9 MB 17.9 MB/s eta 0:00:03\n",
      "   -------------------------------- ------ 163.1/197.9 MB 17.9 MB/s eta 0:00:02\n",
      "   -------------------------------- ------ 167.0/197.9 MB 17.9 MB/s eta 0:00:02\n",
      "   --------------------------------- ----- 170.7/197.9 MB 17.9 MB/s eta 0:00:02\n",
      "   ---------------------------------- ---- 174.6/197.9 MB 17.9 MB/s eta 0:00:02\n",
      "   ----------------------------------- --- 178.5/197.9 MB 17.9 MB/s eta 0:00:02\n",
      "   ----------------------------------- --- 182.2/197.9 MB 17.9 MB/s eta 0:00:01\n",
      "   ------------------------------------ -- 186.1/197.9 MB 17.9 MB/s eta 0:00:01\n",
      "   ------------------------------------- - 189.8/197.9 MB 17.9 MB/s eta 0:00:01\n",
      "   --------------------------------------  193.7/197.9 MB 17.9 MB/s eta 0:00:01\n",
      "   --------------------------------------  197.4/197.9 MB 17.9 MB/s eta 0:00:01\n",
      "   --------------------------------------  197.7/197.9 MB 17.9 MB/s eta 0:00:01\n",
      "   --------------------------------------  197.7/197.9 MB 17.9 MB/s eta 0:00:01\n",
      "   --------------------------------------- 197.9/197.9 MB 17.2 MB/s eta 0:00:00\n",
      "Downloading typer-0.9.4-py3-none-any.whl (45 kB)\n",
      "Downloading annotated_types-0.7.0-py3-none-any.whl (13 kB)\n",
      "Downloading click-8.1.7-py3-none-any.whl (97 kB)\n",
      "Downloading joblib-1.4.2-py3-none-any.whl (301 kB)\n",
      "Downloading markdown_it_py-3.0.0-py3-none-any.whl (87 kB)\n",
      "Downloading opt_einsum-3.3.0-py3-none-any.whl (65 kB)\n",
      "Downloading pyro_api-0.1.2-py3-none-any.whl (11 kB)\n",
      "Downloading threadpoolctl-3.5.0-py3-none-any.whl (18 kB)\n",
      "Downloading tqdm-4.66.5-py3-none-any.whl (78 kB)\n",
      "Downloading tzdata-2024.1-py2.py3-none-any.whl (345 kB)\n",
      "Downloading filelock-3.15.4-py3-none-any.whl (16 kB)\n",
      "Downloading fsspec-2024.6.1-py3-none-any.whl (177 kB)\n",
      "Downloading networkx-3.3-py3-none-any.whl (1.7 MB)\n",
      "   ---------------------------------------- 0.0/1.7 MB ? eta -:--:--\n",
      "   ---------------------------------------- 1.7/1.7 MB 15.3 MB/s eta 0:00:00\n",
      "Downloading sympy-1.13.2-py3-none-any.whl (6.2 MB)\n",
      "   ---------------------------------------- 0.0/6.2 MB ? eta -:--:--\n",
      "   ----------------------- ---------------- 3.7/6.2 MB 18.2 MB/s eta 0:00:01\n",
      "   ---------------------------------------- 6.2/6.2 MB 16.5 MB/s eta 0:00:00\n",
      "Downloading mdurl-0.1.2-py3-none-any.whl (10.0 kB)\n",
      "Downloading mpmath-1.3.0-py3-none-any.whl (536 kB)\n",
      "   ---------------------------------------- 0.0/536.2 kB ? eta -:--:--\n",
      "   ---------------------------------------- 536.2/536.2 kB 8.6 MB/s eta 0:00:00\n",
      "Installing collected packages: pyro-api, mpmath, tzdata, tqdm, toml, threadpoolctl, sympy, pydantic-core, ordered-set, numpy, networkx, mdurl, joblib, fsspec, filelock, click, annotated-types, typer, torch, scipy, pydantic, pandas, opt-einsum, markdown-it-py, scikit-learn, rich, pyro-ppl, py-irt\n",
      "Successfully installed annotated-types-0.7.0 click-8.1.7 filelock-3.15.4 fsspec-2024.6.1 joblib-1.4.2 markdown-it-py-3.0.0 mdurl-0.1.2 mpmath-1.3.0 networkx-3.3 numpy-2.1.0 opt-einsum-3.3.0 ordered-set-4.1.0 pandas-2.2.2 py-irt-0.6.4 pydantic-2.8.2 pydantic-core-2.20.1 pyro-api-0.1.2 pyro-ppl-1.9.1 rich-13.7.1 scikit-learn-1.5.1 scipy-1.14.1 sympy-1.13.2 threadpoolctl-3.5.0 toml-0.10.2 torch-2.4.0 tqdm-4.66.5 typer-0.9.4 tzdata-2024.1\n"
     ]
    }
   ],
   "source": [
    "pip install py-irt"
   ]
  },
  {
   "cell_type": "code",
   "execution_count": 1,
   "id": "877d57dc",
   "metadata": {
    "scrolled": true
   },
   "outputs": [
    {
     "data": {
      "text/html": [
       "<div>\n",
       "<style scoped>\n",
       "    .dataframe tbody tr th:only-of-type {\n",
       "        vertical-align: middle;\n",
       "    }\n",
       "\n",
       "    .dataframe tbody tr th {\n",
       "        vertical-align: top;\n",
       "    }\n",
       "\n",
       "    .dataframe thead th {\n",
       "        text-align: right;\n",
       "    }\n",
       "</style>\n",
       "<table border=\"1\" class=\"dataframe\">\n",
       "  <thead>\n",
       "    <tr style=\"text-align: right;\">\n",
       "      <th></th>\n",
       "      <th>SUBJECT</th>\n",
       "      <th>Q1</th>\n",
       "      <th>Q2</th>\n",
       "      <th>Q3</th>\n",
       "      <th>Q4</th>\n",
       "      <th>Q5</th>\n",
       "      <th>Q6</th>\n",
       "      <th>Q7</th>\n",
       "      <th>Q8</th>\n",
       "      <th>Q9</th>\n",
       "      <th>...</th>\n",
       "      <th>Q12</th>\n",
       "      <th>Q13</th>\n",
       "      <th>Q14</th>\n",
       "      <th>Q15</th>\n",
       "      <th>Q16</th>\n",
       "      <th>Q17</th>\n",
       "      <th>Q18</th>\n",
       "      <th>Q19</th>\n",
       "      <th>Q20</th>\n",
       "      <th>Q21</th>\n",
       "    </tr>\n",
       "  </thead>\n",
       "  <tbody>\n",
       "    <tr>\n",
       "      <th>0</th>\n",
       "      <td>S1</td>\n",
       "      <td>1</td>\n",
       "      <td>0</td>\n",
       "      <td>0</td>\n",
       "      <td>1</td>\n",
       "      <td>0</td>\n",
       "      <td>0</td>\n",
       "      <td>0</td>\n",
       "      <td>1</td>\n",
       "      <td>1</td>\n",
       "      <td>...</td>\n",
       "      <td>0</td>\n",
       "      <td>1</td>\n",
       "      <td>1</td>\n",
       "      <td>1</td>\n",
       "      <td>1</td>\n",
       "      <td>0</td>\n",
       "      <td>0</td>\n",
       "      <td>1</td>\n",
       "      <td>1</td>\n",
       "      <td>1</td>\n",
       "    </tr>\n",
       "    <tr>\n",
       "      <th>1</th>\n",
       "      <td>S2</td>\n",
       "      <td>1</td>\n",
       "      <td>0</td>\n",
       "      <td>0</td>\n",
       "      <td>1</td>\n",
       "      <td>0</td>\n",
       "      <td>1</td>\n",
       "      <td>0</td>\n",
       "      <td>1</td>\n",
       "      <td>0</td>\n",
       "      <td>...</td>\n",
       "      <td>1</td>\n",
       "      <td>0</td>\n",
       "      <td>0</td>\n",
       "      <td>0</td>\n",
       "      <td>0</td>\n",
       "      <td>0</td>\n",
       "      <td>0</td>\n",
       "      <td>0</td>\n",
       "      <td>1</td>\n",
       "      <td>1</td>\n",
       "    </tr>\n",
       "    <tr>\n",
       "      <th>2</th>\n",
       "      <td>S3</td>\n",
       "      <td>1</td>\n",
       "      <td>0</td>\n",
       "      <td>0</td>\n",
       "      <td>1</td>\n",
       "      <td>0</td>\n",
       "      <td>1</td>\n",
       "      <td>1</td>\n",
       "      <td>1</td>\n",
       "      <td>0</td>\n",
       "      <td>...</td>\n",
       "      <td>0</td>\n",
       "      <td>1</td>\n",
       "      <td>1</td>\n",
       "      <td>0</td>\n",
       "      <td>1</td>\n",
       "      <td>0</td>\n",
       "      <td>1</td>\n",
       "      <td>0</td>\n",
       "      <td>0</td>\n",
       "      <td>0</td>\n",
       "    </tr>\n",
       "    <tr>\n",
       "      <th>3</th>\n",
       "      <td>S4</td>\n",
       "      <td>1</td>\n",
       "      <td>0</td>\n",
       "      <td>0</td>\n",
       "      <td>1</td>\n",
       "      <td>0</td>\n",
       "      <td>1</td>\n",
       "      <td>0</td>\n",
       "      <td>1</td>\n",
       "      <td>0</td>\n",
       "      <td>...</td>\n",
       "      <td>0</td>\n",
       "      <td>1</td>\n",
       "      <td>0</td>\n",
       "      <td>1</td>\n",
       "      <td>1</td>\n",
       "      <td>0</td>\n",
       "      <td>0</td>\n",
       "      <td>1</td>\n",
       "      <td>0</td>\n",
       "      <td>0</td>\n",
       "    </tr>\n",
       "    <tr>\n",
       "      <th>4</th>\n",
       "      <td>S7</td>\n",
       "      <td>1</td>\n",
       "      <td>0</td>\n",
       "      <td>0</td>\n",
       "      <td>1</td>\n",
       "      <td>0</td>\n",
       "      <td>1</td>\n",
       "      <td>0</td>\n",
       "      <td>1</td>\n",
       "      <td>0</td>\n",
       "      <td>...</td>\n",
       "      <td>1</td>\n",
       "      <td>1</td>\n",
       "      <td>0</td>\n",
       "      <td>1</td>\n",
       "      <td>0</td>\n",
       "      <td>0</td>\n",
       "      <td>0</td>\n",
       "      <td>0</td>\n",
       "      <td>0</td>\n",
       "      <td>1</td>\n",
       "    </tr>\n",
       "  </tbody>\n",
       "</table>\n",
       "<p>5 rows × 22 columns</p>\n",
       "</div>"
      ],
      "text/plain": [
       "  SUBJECT  Q1  Q2  Q3  Q4  Q5  Q6  Q7  Q8  Q9  ...  Q12  Q13  Q14  Q15  Q16  \\\n",
       "0      S1   1   0   0   1   0   0   0   1   1  ...    0    1    1    1    1   \n",
       "1      S2   1   0   0   1   0   1   0   1   0  ...    1    0    0    0    0   \n",
       "2      S3   1   0   0   1   0   1   1   1   0  ...    0    1    1    0    1   \n",
       "3      S4   1   0   0   1   0   1   0   1   0  ...    0    1    0    1    1   \n",
       "4      S7   1   0   0   1   0   1   0   1   0  ...    1    1    0    1    0   \n",
       "\n",
       "   Q17  Q18  Q19  Q20  Q21  \n",
       "0    0    0    1    1    1  \n",
       "1    0    0    0    1    1  \n",
       "2    0    1    0    0    0  \n",
       "3    0    0    1    0    0  \n",
       "4    0    0    0    0    1  \n",
       "\n",
       "[5 rows x 22 columns]"
      ]
     },
     "execution_count": 1,
     "metadata": {},
     "output_type": "execute_result"
    }
   ],
   "source": [
    "import pandas as pd\n",
    "\n",
    "# Load your data\n",
    "data = pd.read_csv('DiagnosticResults.csv')\n",
    "\n",
    "# Display the first few rows of the dataset to understand its structure\n",
    "data.head()\n"
   ]
  },
  {
   "cell_type": "code",
   "execution_count": 2,
   "id": "2304c211",
   "metadata": {},
   "outputs": [
    {
     "name": "stdout",
     "output_type": "stream",
     "text": [
      "<class 'pandas.core.frame.DataFrame'>\n",
      "RangeIndex: 80 entries, 0 to 79\n",
      "Data columns (total 22 columns):\n",
      " #   Column   Non-Null Count  Dtype \n",
      "---  ------   --------------  ----- \n",
      " 0   SUBJECT  80 non-null     object\n",
      " 1   Q1       80 non-null     int64 \n",
      " 2   Q2       80 non-null     int64 \n",
      " 3   Q3       80 non-null     int64 \n",
      " 4   Q4       80 non-null     int64 \n",
      " 5   Q5       80 non-null     int64 \n",
      " 6   Q6       80 non-null     int64 \n",
      " 7   Q7       80 non-null     int64 \n",
      " 8   Q8       80 non-null     int64 \n",
      " 9   Q9       80 non-null     int64 \n",
      " 10  Q10      80 non-null     int64 \n",
      " 11  Q11      80 non-null     int64 \n",
      " 12  Q12      80 non-null     int64 \n",
      " 13  Q13      80 non-null     int64 \n",
      " 14  Q14      80 non-null     int64 \n",
      " 15  Q15      80 non-null     int64 \n",
      " 16  Q16      80 non-null     int64 \n",
      " 17  Q17      80 non-null     int64 \n",
      " 18  Q18      80 non-null     int64 \n",
      " 19  Q19      80 non-null     int64 \n",
      " 20  Q20      80 non-null     int64 \n",
      " 21  Q21      80 non-null     int64 \n",
      "dtypes: int64(21), object(1)\n",
      "memory usage: 13.9+ KB\n"
     ]
    }
   ],
   "source": [
    "# Check for any missing values or inconsistencies\n",
    "data.info()"
   ]
  },
  {
   "cell_type": "code",
   "execution_count": 3,
   "id": "c5934fcf",
   "metadata": {},
   "outputs": [
    {
     "ename": "ModuleNotFoundError",
     "evalue": "No module named 'pyirt'",
     "output_type": "error",
     "traceback": [
      "\u001b[1;31m---------------------------------------------------------------------------\u001b[0m",
      "\u001b[1;31mModuleNotFoundError\u001b[0m                       Traceback (most recent call last)",
      "Cell \u001b[1;32mIn[3], line 1\u001b[0m\n\u001b[1;32m----> 1\u001b[0m \u001b[38;5;28;01mfrom\u001b[39;00m \u001b[38;5;21;01mpyirt\u001b[39;00m \u001b[38;5;28;01mimport\u001b[39;00m irt\n",
      "\u001b[1;31mModuleNotFoundError\u001b[0m: No module named 'pyirt'"
     ]
    }
   ],
   "source": [
    "from pyirt import irt"
   ]
  },
  {
   "cell_type": "code",
   "execution_count": 29,
   "id": "7b5eaa67-9f29-4c2b-8656-9c59956632cb",
   "metadata": {
    "scrolled": true
   },
   "outputs": [
    {
     "name": "stdout",
     "output_type": "stream",
     "text": [
      "Note: you may need to restart the kernel to use updated packages.\n"
     ]
    },
    {
     "name": "stderr",
     "output_type": "stream",
     "text": [
      "ERROR: Could not find a version that satisfies the requirement latent-trait (from versions: none)\n",
      "ERROR: No matching distribution found for latent-trait\n"
     ]
    }
   ],
   "source": [
    "pip install latent-trait"
   ]
  },
  {
   "cell_type": "code",
   "execution_count": 22,
   "id": "f826a78a-8726-4362-9b9d-fd928494e6c9",
   "metadata": {},
   "outputs": [
    {
     "data": {
      "text/plain": [
       "['__builtins__',\n",
       " '__cached__',\n",
       " '__doc__',\n",
       " '__file__',\n",
       " '__loader__',\n",
       " '__name__',\n",
       " '__package__',\n",
       " '__path__',\n",
       " '__spec__',\n",
       " 'name']"
      ]
     },
     "execution_count": 22,
     "metadata": {},
     "output_type": "execute_result"
    }
   ],
   "source": [
    "import py_irt\n",
    "dir(py_irt)"
   ]
  },
  {
   "cell_type": "code",
   "execution_count": 15,
   "id": "e040b32a-6b88-434b-979b-a7d30f59bb17",
   "metadata": {},
   "outputs": [
    {
     "ename": "ImportError",
     "evalue": "cannot import name 'irt' from 'py_irt' (C:\\Users\\pablo\\anaconda3\\envs\\ItemResponseTheory\\Lib\\site-packages\\py_irt\\__init__.py)",
     "output_type": "error",
     "traceback": [
      "\u001b[1;31m---------------------------------------------------------------------------\u001b[0m",
      "\u001b[1;31mImportError\u001b[0m                               Traceback (most recent call last)",
      "Cell \u001b[1;32mIn[15], line 3\u001b[0m\n\u001b[0;32m      1\u001b[0m \u001b[38;5;28;01mimport\u001b[39;00m \u001b[38;5;21;01mpandas\u001b[39;00m \u001b[38;5;28;01mas\u001b[39;00m \u001b[38;5;21;01mpd\u001b[39;00m\n\u001b[0;32m      2\u001b[0m \u001b[38;5;28;01mimport\u001b[39;00m \u001b[38;5;21;01mnumpy\u001b[39;00m \u001b[38;5;28;01mas\u001b[39;00m \u001b[38;5;21;01mnp\u001b[39;00m\n\u001b[1;32m----> 3\u001b[0m \u001b[38;5;28;01mfrom\u001b[39;00m \u001b[38;5;21;01mpy_irt\u001b[39;00m \u001b[38;5;28;01mimport\u001b[39;00m irt\n\u001b[0;32m      5\u001b[0m \u001b[38;5;66;03m# Load your data\u001b[39;00m\n\u001b[0;32m      6\u001b[0m data \u001b[38;5;241m=\u001b[39m pd\u001b[38;5;241m.\u001b[39mread_csv(\u001b[38;5;124m'\u001b[39m\u001b[38;5;124mDiagnosticResults.csv\u001b[39m\u001b[38;5;124m'\u001b[39m)\n",
      "\u001b[1;31mImportError\u001b[0m: cannot import name 'irt' from 'py_irt' (C:\\Users\\pablo\\anaconda3\\envs\\ItemResponseTheory\\Lib\\site-packages\\py_irt\\__init__.py)"
     ]
    }
   ],
   "source": [
    "import pandas as pd\n",
    "import numpy as np\n",
    "from py_irt import irt\n",
    "\n",
    "# Load your data\n",
    "data = pd.read_csv('DiagnosticResults.csv')\n",
    "\n",
    "# Example: Convert categorical responses (if needed)\n",
    "# Assuming 1 for correct answer and 0 for incorrect\n",
    "# Convert your data accordingly\n",
    "\n",
    "# Perform IRT analysis\n",
    "model = irt(data.values, num_factors=1, guess_param=True, max_iter=100)"
   ]
  }
 ],
 "metadata": {
  "kernelspec": {
   "display_name": "Python 3 (ipykernel)",
   "language": "python",
   "name": "python3"
  },
  "language_info": {
   "codemirror_mode": {
    "name": "ipython",
    "version": 3
   },
   "file_extension": ".py",
   "mimetype": "text/x-python",
   "name": "python",
   "nbconvert_exporter": "python",
   "pygments_lexer": "ipython3",
   "version": "3.11.9"
  }
 },
 "nbformat": 4,
 "nbformat_minor": 5
}
