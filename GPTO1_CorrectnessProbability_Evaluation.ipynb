{
 "cells": [
  {
   "cell_type": "markdown",
   "id": "4f817008",
   "metadata": {},
   "source": [
    "# Evaluation of ICC parameters and correctness probabilities.\n",
    "\n",
    "## Diagnostic\n"
   ]
  },
  {
   "cell_type": "code",
   "execution_count": 4,
   "id": "be4ba364",
   "metadata": {},
   "outputs": [
    {
     "name": "stdout",
     "output_type": "stream",
     "text": [
      "Log-Likelihood: -195.28165819912815\n",
      "Brier Score: 0.2428195590277778\n",
      "AUC: 0.7066822066822067\n"
     ]
    }
   ],
   "source": [
    "import pandas as pd\n",
    "import numpy as np\n",
    "from sklearn.metrics import roc_auc_score\n",
    "\n",
    "# Load the actual results\n",
    "actual_df = pd.read_csv('DiagnosticResults_8q_36students.csv')\n",
    "\n",
    "# Load the predicted probabilities\n",
    "predicted_df = pd.read_csv('DiagnosticProbabilities_8q.csv')\n",
    "\n",
    "# Ensure that the 'SUBJECT' column is set as the index\n",
    "actual_df.set_index('SUBJECT', inplace=True)\n",
    "predicted_df.set_index('SUBJECT', inplace=True)\n",
    "\n",
    "# Align the dataframes to ensure the students are in the same order\n",
    "actual_df = actual_df.loc[predicted_df.index]\n",
    "\n",
    "# Flatten the data into arrays for computation\n",
    "actual_values = actual_df.values.flatten().astype(int)\n",
    "predicted_probs = predicted_df.values.flatten().astype(float)\n",
    "\n",
    "def compute_log_likelihood(actual, predicted):\n",
    "    # Avoid log(0) by clipping predicted probabilities\n",
    "    epsilon = 1e-15\n",
    "    predicted = np.clip(predicted, epsilon, 1 - epsilon)\n",
    "    # Compute log-likelihood\n",
    "    log_likelihood = actual * np.log(predicted) + (1 - actual) * np.log(1 - predicted)\n",
    "    total_log_likelihood = np.sum(log_likelihood)\n",
    "    return total_log_likelihood\n",
    "\n",
    "\n",
    "def compute_brier_score(actual, predicted):\n",
    "    brier_score = np.mean((predicted - actual) ** 2)\n",
    "    return brier_score\n",
    "\n",
    "def compute_auc(actual, predicted):\n",
    "    return roc_auc_score(actual, predicted)\n",
    "\n",
    "\n",
    "log_likelihood = compute_log_likelihood(actual_values, predicted_probs)\n",
    "brier_score = compute_brier_score(actual_values, predicted_probs)\n",
    "auc = compute_auc(actual_values, predicted_probs)\n",
    "\n",
    "print(f'Log-Likelihood: {log_likelihood}')\n",
    "print(f'Brier Score: {brier_score}')\n",
    "print(f'AUC: {auc}')\n"
   ]
  },
  {
   "cell_type": "markdown",
   "id": "a28c569e",
   "metadata": {},
   "source": [
    "### Explanation of the Metrics\n",
    "Log-Likelihood: Summarizes the probability of observing the actual outcomes given the predicted probabilities. Higher values indicate better model fit (less negative).\n",
    "\n",
    "Brier Score: Ranges from 0 to 1, where 0 indicates perfect accuracy. It assesses the accuracy of probabilistic predictions.\n",
    "\n",
    "AUC: Ranges from 0 to 1, where 1 indicates perfect discrimination between classes. It evaluates the model's ability to rank positive instances higher than negative ones.\n",
    "\n",
    "### Overall Assessment of the reliability of Abilities and Probabilities:\n",
    "\n",
    "The metrics collectively suggest that your IRT model's predicted probabilities are reasonably reliable.\n",
    "Moderate Predictive Power: The model captures meaningful patterns but isn't perfect.\n",
    "Support for Model Validity: Acceptable AUC and moderate Brier Score support using these probabilities and abilities in further analysis.\n"
   ]
  },
  {
   "cell_type": "markdown",
   "id": "acdc1ab9",
   "metadata": {},
   "source": [
    "## Preliminary minitest"
   ]
  },
  {
   "cell_type": "code",
   "execution_count": 10,
   "id": "d7347804",
   "metadata": {},
   "outputs": [
    {
     "name": "stdout",
     "output_type": "stream",
     "text": [
      "Log-Likelihood (Preliminary): -229.30410976518783\n",
      "Brier Score (Preliminary): 0.26157686875\n",
      "AUC (Preliminary): 0.550570234181582\n"
     ]
    }
   ],
   "source": [
    "import pandas as pd\n",
    "import numpy as np\n",
    "from sklearn.metrics import roc_auc_score\n",
    "\n",
    "# Load the actual preliminary results\n",
    "actual_prelim_df = pd.read_csv('PreliminaryResults_8q.csv')\n",
    "\n",
    "# Load the predicted preliminary probabilities\n",
    "predicted_prelim_df = pd.read_csv('PreliminaryProbabilities_8q.csv')\n",
    "## predicted_prelim_df = pd.read_csv('PreliminaryProbabilities_8q_GUESS4.csv')\n",
    "## predicted_prelim_df = pd.read_csv('PreliminaryProbabilities_8q_from14q.csv')\n",
    "\n",
    "# Ensure that the 'SUBJECT' column is set as the index\n",
    "actual_prelim_df.set_index('SUBJECT', inplace=True)\n",
    "predicted_prelim_df.set_index('SUBJECT', inplace=True)\n",
    "\n",
    "# Align the dataframes to ensure the students are in the same order\n",
    "actual_prelim_df = actual_prelim_df.loc[predicted_prelim_df.index]\n",
    "\n",
    "# Flatten the data into arrays for computation\n",
    "actual_prelim_values = actual_prelim_df.values.flatten().astype(int)\n",
    "predicted_prelim_probs = predicted_prelim_df.values.flatten().astype(float)\n",
    "\n",
    "\n",
    "def compute_log_likelihood(actual, predicted):\n",
    "    # Avoid log(0) by clipping predicted probabilities\n",
    "    epsilon = 1e-15\n",
    "    predicted = np.clip(predicted, epsilon, 1 - epsilon)\n",
    "    # Compute log-likelihood\n",
    "    log_likelihood = actual * np.log(predicted) + (1 - actual) * np.log(1 - predicted)\n",
    "    total_log_likelihood = np.sum(log_likelihood)\n",
    "    return total_log_likelihood\n",
    "\n",
    "\n",
    "def compute_brier_score(actual, predicted):\n",
    "    brier_score = np.mean((predicted - actual) ** 2)\n",
    "    return brier_score\n",
    "\n",
    "def compute_auc(actual, predicted):\n",
    "    return roc_auc_score(actual, predicted)\n",
    "\n",
    "\n",
    "log_likelihood_prelim = compute_log_likelihood(actual_prelim_values, predicted_prelim_probs)\n",
    "brier_score_prelim = compute_brier_score(actual_prelim_values, predicted_prelim_probs)\n",
    "auc_prelim = compute_auc(actual_prelim_values, predicted_prelim_probs)\n",
    "\n",
    "print(f'Log-Likelihood (Preliminary): {log_likelihood_prelim}')\n",
    "print(f'Brier Score (Preliminary): {brier_score_prelim}')\n",
    "print(f'AUC (Preliminary): {auc_prelim}')\n",
    "\n"
   ]
  },
  {
   "cell_type": "markdown",
   "id": "69ef019a",
   "metadata": {},
   "source": [
    "### Explanation of the Metrics\n",
    "Log-Likelihood: Summarizes the probability of observing the actual outcomes given the predicted probabilities. Higher values indicate better model fit (less negative).\n",
    "\n",
    "Brier Score: Ranges from 0 to 1, where 0 indicates perfect accuracy. It assesses the accuracy of probabilistic predictions.\n",
    "\n",
    "AUC: Ranges from 0 to 1, where 1 indicates perfect discrimination between classes. It evaluates the model's ability to rank positive instances higher than negative ones."
   ]
  },
  {
   "attachments": {},
   "cell_type": "markdown",
   "id": "d1b1bd3d",
   "metadata": {},
   "source": [
    "### Diagnostic Performance and Preliminary Performance are correlated \n",
    "\n",
    "We also confirmed that both minitests are correlated:\n",
    "\n",
    "Perf [MINI DIAG] and Perf [MINI PREL]\tr=0.36\tp=.033\n",
    "\n",
    "\n"
   ]
  },
  {
   "cell_type": "code",
   "execution_count": null,
   "id": "64335db9",
   "metadata": {},
   "outputs": [],
   "source": []
  },
  {
   "cell_type": "code",
   "execution_count": null,
   "id": "dcbf7874",
   "metadata": {},
   "outputs": [],
   "source": []
  }
 ],
 "metadata": {
  "kernelspec": {
   "display_name": "Python 3 (ipykernel)",
   "language": "python",
   "name": "python3"
  },
  "language_info": {
   "codemirror_mode": {
    "name": "ipython",
    "version": 3
   },
   "file_extension": ".py",
   "mimetype": "text/x-python",
   "name": "python",
   "nbconvert_exporter": "python",
   "pygments_lexer": "ipython3",
   "version": "3.11.4"
  }
 },
 "nbformat": 4,
 "nbformat_minor": 5
}
