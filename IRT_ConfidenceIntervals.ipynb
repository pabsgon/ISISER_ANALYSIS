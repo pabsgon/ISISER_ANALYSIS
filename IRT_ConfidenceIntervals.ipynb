{
 "cells": [
  {
   "cell_type": "code",
   "execution_count": 1,
   "id": "f5268e95-7105-46d8-98d2-2ff52e3da760",
   "metadata": {},
   "outputs": [
    {
     "name": "stdout",
     "output_type": "stream",
     "text": [
      "Expected Correct: 4.48\n",
      "Confidence Interval: [1.88, 7.09]\n",
      "Actual Correct: 5\n",
      "Is within expected range: True\n"
     ]
    }
   ],
   "source": [
    "import numpy as np\n",
    "\n",
    "# Probabilities of answering questions correctly based on the ICC\n",
    "probabilities = np.array([0.576, 0.617, 0.785, 0.308, 0.546, 0.597, 0.729, 0.326])\n",
    "\n",
    "# Preliminary answers: 1 = correct, 0 = incorrect\n",
    "preliminary_answers = np.array([1, 0, 0, 0, 1, 1, 1, 1])\n",
    "\n",
    "# Calculate expected number of correct answers\n",
    "expected_correct = np.sum(probabilities)\n",
    "\n",
    "# Calculate variance and standard deviation\n",
    "variance = np.sum(probabilities * (1 - probabilities))\n",
    "std_dev = np.sqrt(variance)\n",
    "\n",
    "# Calculate the 95% confidence interval\n",
    "lower_bound = expected_correct - 1.96 * std_dev\n",
    "upper_bound = expected_correct + 1.96 * std_dev\n",
    "\n",
    "# Count the actual number of correct preliminary answers\n",
    "actual_correct = np.sum(preliminary_answers)\n",
    "\n",
    "# Check if the actual number of correct answers falls within the expected range\n",
    "is_within_expected = lower_bound <= actual_correct <= upper_bound\n",
    "\n",
    "print(f\"Expected Correct: {expected_correct:.2f}\")\n",
    "print(f\"Confidence Interval: [{lower_bound:.2f}, {upper_bound:.2f}]\")\n",
    "print(f\"Actual Correct: {actual_correct}\")\n",
    "print(f\"Is within expected range: {is_within_expected}\")"
   ]
  },
  {
   "cell_type": "code",
   "execution_count": 3,
   "id": "3508adb7-0a86-40af-b6f5-2e6313dd49c7",
   "metadata": {},
   "outputs": [
    {
     "name": "stdout",
     "output_type": "stream",
     "text": [
      "Probability of observing this sequence: 0.002543\n",
      "The sequence of responses is improbable (outside expectations).\n"
     ]
    }
   ],
   "source": [
    "\n",
    "from scipy.stats import binomtest\n",
    "\n",
    "# Probabilities of answering each question correctly (based on ICC)\n",
    "probabilities = np.array([0.576, 0.617, 0.785, 0.308, 0.546, 0.597, 0.729, 0.326])\n",
    "\n",
    "# Preliminary answers given by the student (1 = correct, 0 = incorrect)\n",
    "preliminary_answers = np.array([1, 0, 0, 0, 1, 1, 1, 1])\n",
    "\n",
    "# Calculate the probability of observing the sequence of responses\n",
    "sequence_probability = 1.0\n",
    "for i in range(len(preliminary_answers)):\n",
    "    if preliminary_answers[i] == 1:  # Correct answer\n",
    "        sequence_probability *= probabilities[i]\n",
    "    else:  # Incorrect answer\n",
    "        sequence_probability *= (1 - probabilities[i])\n",
    "\n",
    "print(f\"Probability of observing this sequence: {sequence_probability:.6f}\")\n",
    "\n",
    "# Hypothesis testing: determine if this sequence probability is within expectations\n",
    "# Compare the sequence probability to a threshold (e.g., extremely low values)\n",
    "threshold = 0.05  # Set as an example; can be adjusted based on context\n",
    "\n",
    "if sequence_probability < threshold:\n",
    "    print(\"The sequence of responses is improbable (outside expectations).\")\n",
    "else:\n",
    "    print(\"The sequence of responses is within expected range.\")"
   ]
  },
  {
   "cell_type": "code",
   "execution_count": 7,
   "id": "de666021-63fc-426b-8d6f-32f3bfb74e5e",
   "metadata": {},
   "outputs": [
    {
     "data": {
      "text/plain": [
       "(np.float64(0.37043699999999996),\n",
       " np.float64(0.04671958091221101),\n",
       " np.float64(0.6941544190877889))"
      ]
     },
     "execution_count": 7,
     "metadata": {},
     "output_type": "execute_result"
    }
   ],
   "source": [
    "import numpy as np\n",
    "\n",
    "# Given probabilities of answering correctly for each question\n",
    "Pqi = np.array([0.306, 0.376, 0.609, 0.240, 0.411, 0.313, 0.595, 0.250])\n",
    "\n",
    "# Given values of each question\n",
    "Vqi = np.array([0.122, 0.119, 0.102, 0.154, 0.125, 0.121, 0.103, 0.155])\n",
    "\n",
    "# Calculate expected performance\n",
    "expected_performance = np.sum(Pqi * Vqi)\n",
    "\n",
    "# Calculate variance of the weighted sum\n",
    "variance_performance = np.sum((Vqi ** 2) * Pqi * (1 - Pqi))\n",
    "\n",
    "# Calculate the 95% confidence interval\n",
    "lower_bound_performance = expected_performance - 1.96 * np.sqrt(variance_performance)\n",
    "upper_bound_performance = expected_performance + 1.96 * np.sqrt(variance_performance)\n",
    "\n",
    "expected_performance, lower_bound_performance, upper_bound_performance"
   ]
  },
  {
   "cell_type": "code",
   "execution_count": 5,
   "id": "14a157cc-529c-4584-9b75-3e5914c53828",
   "metadata": {},
   "outputs": [
    {
     "data": {
      "text/plain": [
       "(np.float64(3.6220000000000003),\n",
       " np.float64(1.815716),\n",
       " np.float64(0.9809292728894974),\n",
       " np.float64(6.263070727110503))"
      ]
     },
     "execution_count": 5,
     "metadata": {},
     "output_type": "execute_result"
    }
   ],
   "source": [
    "# Given probabilities of answering correctly for each question\n",
    "#question_probabilities = np.array([0.306, 0.376, 0.609, 0.240, 0.411, 0.313, 0.595, 0.250])\n",
    "question_probabilities = np.array([0.398,0.464,0.688,0.267,0.465,0.409,0.654,0.277])\n",
    "\n",
    "# Calculate the mean and variance of the total score\n",
    "mean_total = np.sum(question_probabilities)\n",
    "variance_total = np.sum(question_probabilities * (1 - question_probabilities))\n",
    "\n",
    "# Use normal approximation to calculate the 95% confidence interval\n",
    "lower_bound = mean_total - 1.96 * np.sqrt(variance_total)\n",
    "upper_bound = mean_total + 1.96 * np.sqrt(variance_total)\n",
    "\n",
    "(mean_total, variance_total, lower_bound, upper_bound)"
   ]
  },
  {
   "cell_type": "code",
   "execution_count": 9,
   "id": "4522c6db-be23-4ba1-b69f-67649a6e8f66",
   "metadata": {},
   "outputs": [
    {
     "name": "stdout",
     "output_type": "stream",
     "text": [
      "Improbability (p-value) of observing a performance of 0.904 or higher: 0.0249\n"
     ]
    }
   ],
   "source": [
    "from scipy.stats import norm\n",
    "\n",
    "# Given probabilities for each question\n",
    "probabilities = [0.458, 0.485, 0.618, 0.408, 0.503, 0.458, 0.636, 0.401]\n",
    "# Weights (values) of each question\n",
    "values = [0.110, 0.106, 0.095, 0.174, 0.114, 0.108, 0.096, 0.196]\n",
    "\n",
    "# Calculate the expected total score\n",
    "expected_score = sum(p * v for p, v in zip(probabilities, values))\n",
    "\n",
    "# Calculate the variance of the total score\n",
    "variance_score = sum(p * (1 - p) * (v ** 2) for p, v in zip(probabilities, values))\n",
    "\n",
    "# Observed performance of student S is 0.904\n",
    "observed_score = 0.833\n",
    "\n",
    "# Convert observed score to z-score\n",
    "z_score = (observed_score - expected_score) / (variance_score ** 0.5)\n",
    "\n",
    "# Calculate the p-value for the upper tail (probability of scoring as high as or higher than observed)\n",
    "p_value = 1 - norm.cdf(z_score)\n",
    "\n",
    "print(f\"Improbability (p-value) of observing a performance of 0.904 or higher: {p_value:.4f}\")"
   ]
  },
  {
   "cell_type": "code",
   "execution_count": 10,
   "id": "f9634a69",
   "metadata": {},
   "outputs": [
    {
     "data": {
      "text/plain": [
       "0.47795"
      ]
     },
     "execution_count": 10,
     "metadata": {},
     "output_type": "execute_result"
    }
   ],
   "source": [
    "expected_score\n"
   ]
  },
  {
   "cell_type": "code",
   "execution_count": 12,
   "id": "e74427a8",
   "metadata": {},
   "outputs": [
    {
     "name": "stdout",
     "output_type": "stream",
     "text": [
      "Probability of P exceeding the upper bound of the 95% confidence interval, failing questions 3 and 7: 0.0025\n"
     ]
    }
   ],
   "source": [
    "from scipy.stats import norm\n",
    "import numpy as np\n",
    "\n",
    "# Given probabilities for each question\n",
    "probabilities = [0.458, 0.485, 0.618, 0.408, 0.503, 0.458, 0.636, 0.401]\n",
    "\n",
    "# Weights (values) of each question\n",
    "values = [0.110, 0.106, 0.095, 0.174, 0.114, 0.108, 0.096, 0.196]\n",
    "\n",
    "# Total value of the test\n",
    "total_value = sum(values)\n",
    "\n",
    "# Expected Performance\n",
    "expected_performance = sum(p * v for p, v in zip(probabilities, values)) / total_value\n",
    "\n",
    "# Variance of Performance\n",
    "variance_performance = sum(p * (1 - p) * (v ** 2) for p, v in zip(probabilities, values)) / (total_value ** 2)\n",
    "\n",
    "# Confidence Interval (Original)\n",
    "upper_bound = expected_performance + 1.96 * np.sqrt(variance_performance)\n",
    "\n",
    "# Adjust for failing questions 3 and 7\n",
    "adjusted_probabilities = probabilities.copy()\n",
    "adjusted_probabilities[2] = 0  # p3 set to 0 (failed)\n",
    "adjusted_probabilities[6] = 0  # p7 set to 0 (failed)\n",
    "\n",
    "# Recalculate expected performance and variance after failing Q3 and Q7\n",
    "adjusted_expected_performance = sum(p * v for p, v in zip(adjusted_probabilities, values)) / total_value\n",
    "adjusted_variance_performance = sum(p * (1 - p) * (v ** 2) for p, v in zip(adjusted_probabilities, values)) / (total_value ** 2)\n",
    "\n",
    "# Calculate the z-score for the upper bound using the adjusted expected performance and variance\n",
    "z_score_exceeding = (upper_bound - adjusted_expected_performance) / np.sqrt(adjusted_variance_performance)\n",
    "\n",
    "# Calculate the probability of exceeding the upper bound using the cumulative distribution function (CDF) of the normal distribution\n",
    "prob_exceeding_adjusted = 1 - norm.cdf(z_score_exceeding)\n",
    "\n",
    "print(f\"Probability of P exceeding the upper bound of the 95% confidence interval, failing questions 3 and 7: {prob_exceeding_adjusted:.4f}\")"
   ]
  },
  {
   "cell_type": "code",
   "execution_count": null,
   "id": "071ef70f",
   "metadata": {},
   "outputs": [],
   "source": []
  }
 ],
 "metadata": {
  "kernelspec": {
   "display_name": "Python 3 (ipykernel)",
   "language": "python",
   "name": "python3"
  },
  "language_info": {
   "codemirror_mode": {
    "name": "ipython",
    "version": 3
   },
   "file_extension": ".py",
   "mimetype": "text/x-python",
   "name": "python",
   "nbconvert_exporter": "python",
   "pygments_lexer": "ipython3",
   "version": "3.11.4"
  }
 },
 "nbformat": 4,
 "nbformat_minor": 5
}
